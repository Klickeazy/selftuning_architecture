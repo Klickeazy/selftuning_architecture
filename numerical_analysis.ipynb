{
 "cells": [
  {
   "cell_type": "markdown",
   "source": [
    "# Numerical Analysis"
   ],
   "metadata": {
    "collapsed": false
   },
   "id": "3d10203177215c74"
  },
  {
   "cell_type": "markdown",
   "source": [
    "##### Code Init"
   ],
   "metadata": {
    "collapsed": false
   },
   "id": "228829088d62fe49"
  },
  {
   "cell_type": "code",
   "execution_count": null,
   "outputs": [],
   "source": [
    "# Function file import\n",
    "import functionfile_speedygreedy as ff"
   ],
   "metadata": {
    "collapsed": false
   },
   "id": "bf9edc392b504428"
  },
  {
   "cell_type": "markdown",
   "source": [
    "## Repository Overview\n",
    "\n",
    "Experiment parameters are created in *experiment_parameters.csv* (works with MS Excel)\n",
    "\n",
    "### Parameters:\n",
    "- *experiment_no* : Ensure that every new row has a new number to prevent data overwrites\n",
    "- *test_model* and *test_parameter*: These define the experiment model and control parameter\n",
    "\n",
    "| Exp No | test_model                          | Test Description                                                                                                                              | test_parameter Effect                                    |\n",
    "|:------:|:-----------------------------------------|-----------------------------------------------------------------------------------------------------------------------------------------------|----------------------------------------------------------|\n",
    "|  1.1   | fixed_vs_self_tuning                      | compare fixed architecture to self-tuning architecture for a generated network                                                                | number of changes permitted for self_tuning architecture |\n",
    "|  1.2   | statistics_fixed_vs_self_tuning           | run fixed_vs_self_tuning for 100 different randomly generated network graphs                                                                   | number of changes permitted for self_tuning architecture |\n",
    "|  1.3   | statistics_pointdistribution_openloop    | run fixed_vs_self_tuning over initial points on eigenvectors of open-loop dynamics matrix of a single instance of a randomly generated network | number of changes permitted for self_tuning architecture |\n",
    "|  2.1   | self_tuning_number_of_changes             | compare the effect of 1 vs $n$ number of architecture optimization changes allowed per simulation step                                        | number of changes permitted for self_tuning architecture |\n",
    "|  2.2   | statistics_self_tuning_number_of_changes  | run self_tuning_number_of_changes for 100 different randomly generated network graphs                                                          | number of changes permitted for self_tuning architecture |\n",
    "|  3.1   | self_tuning_prediction_horizon            | compare the effect of scaling prediction time horizon                                                                                         | scales the base time horizon                             |\n",
    "|  3.2   | statistics_self_tuning_prediction_horizon | run self_tuning_prediction_horizon for 100 different randomly generated network graphs                                                         | scales the base time horizon                             | \n",
    "|  4.1   | self_tuning_architecture_cost             | compare the effect of scaling architecture running and switching costs                                                                        | scales the base architecture costs                       |\n",
    "|  4.2   | statistics_self_tuning_architecture_cost  | run self_tuning_architecture_cost for 100 different randomly generated network graphs                                                          | scales the base architecture costs                       |\n",
    "|  4.3   | self_tuning_architecture_constraints     | compare the effect of tight vs loose architecture constraints on self-tuning architecture under running + switching costs                     | changes lower bound on active architecture sets          |\n",
    "\n",
    "- Network generation parameters:\n",
    "    - *number_of_nodes* : number of nodes in the network model\n",
    "    - *network_model* : type of network connection - generated using *numpy* and *networkx* packages\n",
    "        - *rand* : random weighted adjacency matrix with weights $[0,1)$\n",
    "        - *ER* : a realization of an Erdos-Renyi random graph generator with edge probability $p$\n",
    "        - *BA* : generate a realization of a Barabasi-Albert random graph generator with initial seed $p$\n",
    "        - *path* : generate a path graph\n",
    "        - *cycle* : generate a cycle graph\n",
    "        - *eval_squeeze* : generate spectrum of eigenvalues in $(-1-p, -1+p) \\cup (1-p, 1+p)$ to force stable modes with slow convergence and unstable modes with slow divergence\n",
    "        - *eval_bound* : generate spectrum of eigenvalues in $(-1, -1+p) \\cup (1-p, 1)$ to force stable modes with slow convergence\n",
    "        All graphs are checked to be well-connected, i.e., there are no isolated subnetworks and there is a path (direct or indirect) between every pair of nodes\n",
    "        For *eval_squeeze* and *eval_bound*, the underlying eigenvectors are randomly generated and normalized. All nodes have a self-connecting edge before uniform scaling is enforced \n",
    "    - *network_parameter* : generation parameter for ER, BA, eval_squeeze and eval_bound generators\n",
    "    - *rho* : uniform scaling parameter to apply to adjacency matrix if required\n",
    "    - *second_order* and *second_order_network* : specify if network nodes have second-order dynamics and which level is connected by the network adjacency $G_{adj}$\n",
    "        Dynamics of the $i^{th}$ node is given by $x'_{i,t}$ and $x_{i,t}$\n",
    "        Open-loop dynamics based on *second_order_network* parameter for states $x_t = \\begin{bmatrix} \\dots x_{i,t} \\dots x'_{i,t} \\dots \\end{bmatrix}^\\top$: \n",
    "        - *second_order_network* = 1 : $A = \\begin{bmatrix} G_{adj} & \\mathbf{0} \\\\ \\mathbf{I} & \\mathbf{I} \\end{bmatrix}$ where network dynamics affects $x_{i,t}$ and $x'_{i,t+1} = x'_{i,t} + x_{i,t}$\n",
    "        - *second_order_network* = 2 : $A = \\begin{bmatrix} \\mathbf{I} & \\mathbf{0} \\\\ \\mathbf{I} & G_{adj} \\end{bmatrix}$ where network dynamics affects $x'_{i,t}$  and $x'_{i,t+1} = x'_{i,t} + x_{i,t} + \\sum_{j\\in\\mathscr{N}(x_i)}G_{adj,i,j}x_j$\n",
    "- Architecture parameters: Applicable for both actuators and sensors\n",
    "    Initializes available architecture as identity basis vectors of $\\mathbb{R}^n$ space\n",
    "    - *initial_architecture_size* : size of initial randomly placed or design-time optimized architecture\n",
    "    - *architecture_constraint_min*, *architecture_constraint_max* : min and max constraints on the size of the architecture sets. Set equal to each other for constrained optimization\n",
    "    - *second_order_architecture* : needs to be defined if second-order network dynamics for actuator inputs and sensor measurements\n",
    "        - *second_order_architecture* = 1 : architecture connected to $x_{i,t}$ nodes\n",
    "        - *second_order_architecture* = 2 : architecture connected to $x'_{i,t}$ nodes\n",
    "    - *Q_cost_scaling*, *R_cost_scaling* : scaling costs on states and inputs for control objective - default 1 is identity\n",
    "    - *B_run_cost*, *C_run_cost* : architecture running costs for actuators and sensors respectively\n",
    "    - *B_switch_cost*, *C_switch_cost* : architecture switching costs for actuators and sensors respectively\n",
    "- Disturbance parameters: additive process/measurement noise and un-modelled disturbance generators\n",
    "    - *W_scaling* : scaling of identity matrix on covariance of zero-mean process noise\n",
    "    - *V_scaling* : scaling of identity matrix on covariance of zero-mean measurement noise\n",
    "        Note that *W_scaling* and *V_scaling* are parameters of estimation optimization\n",
    "    - *disturbance_model* : type of un-modelled noise model\n",
    "        - *process* - additional noise only in process\n",
    "        - *measurement* - additional noise only in measurement\n",
    "        - *combined* - additional noise in both process and measurement\n",
    "    - *disturbance_step*, *disturbance_number*, *disturbance_magnitude* : how frequently, how many and how large the randomly generated un-modelled noise enters the process and measurements\n",
    "- Simulation parameters:\n",
    "    - *prediction_time_horizon* : length of the (MPC-like) receding prediction horizon over which architecture is assumed to be constant and optimized for\n",
    "    - *X0_scaling* : uniform scaling parameter of the identity covariance matrix of zero-mean distribution over which the initial state is sampled from for all *test_model*(s) other than *statistics_pointdistribution_openloop*. For *statistics_pointdistribution_openloop*, scales the distance of initial state on the open-loop eigenvectors from the unit circle \n",
    "    - *multiprocessing* : set to **True** uses *concurrent.futures.ProcessPoolExecutor()* to run statistical experiments for different models/tests in parallel "
   ],
   "metadata": {
    "collapsed": false
   },
   "id": "46a529ed63f7e72f"
  },
  {
   "cell_type": "markdown",
   "source": [],
   "metadata": {
    "collapsed": false
   },
   "id": "90f49da036ffc5eb"
  },
  {
   "cell_type": "markdown",
   "source": [
    "# Run + Plot Instructions\n",
    "\n",
    "Define the experiment parameters in experiment_parameters.csv and set corresponding experiment number to *exp_no*\n",
    "\n",
    "<span style=\"color:red;\">WARNING: Check for unique experiment numbers to prevent overwriting data.</span>\n",
    "Default Flags: *run_flag, plot_flag = False, True*\n",
    "Set *run_flag = True* to regen data and run simulation from scratch\n",
    "Note that most test cases of a single realization may take 5 - 10 minutes, statistical cases may take 10-20 hours with the *multiprocessing* parameter set to **True** "
   ],
   "metadata": {
    "collapsed": false
   },
   "id": "92d9ef1c5e97187d"
  },
  {
   "cell_type": "markdown",
   "source": [
    "#### Code Flags"
   ],
   "metadata": {
    "collapsed": false
   },
   "id": "c4a11cdb095dfe0"
  },
  {
   "cell_type": "code",
   "execution_count": null,
   "outputs": [],
   "source": [
    "run_flag = False    # Uses pre-generated model data from DataDump folder\n",
    "# run_flag = True   # Simulates experiment and saves data to DataDump folder for plotting\n",
    "\n",
    "plot_flag = True   # Plots data for exp_no in DataDump folder"
   ],
   "metadata": {
    "collapsed": false
   },
   "id": "cb21c198ffd9c541"
  },
  {
   "cell_type": "markdown",
   "source": [
    "# Numerical Analysis and Experiment Summary"
   ],
   "metadata": {
    "collapsed": false
   },
   "id": "cfe834a066917151"
  },
  {
   "cell_type": "markdown",
   "source": [
    "## Exp No 1 : Fixed vs Self-tuning Architecture\n",
    "\n",
    "### Experiment setup\n",
    "\n",
    "$50$-node undirected, uniformly weighted graph with dynamics $|\\lambda_i (A) - 1| \\leq 0.1$ $\\forall i \\in [1, 2,..., 50]$\n",
    "Architecture constrained by $\\mathcal{L}_m = \\mathcal{L}_M = \\mathcal{L}_{m'} = \\mathcal{L}_{M'} = 5$ and no running/switching costs\n",
    "Design-time fixed active architecture set greedy optimized over a $20$-time step prediction horizon\n",
    "Self-tuning architecture initialized from design-time greedy optimal active set, optimized at each simulation step over a receding $10$-time step prediction horizon, unrestricted $N\\rightarrow\\infty$ number of iterations with $N^'=2$ changes to active sets per selection/rejection subsequences\n",
    "\n",
    "### Code"
   ],
   "metadata": {
    "collapsed": false
   },
   "id": "3f010d6d373d4f15"
  },
  {
   "cell_type": "code",
   "execution_count": null,
   "outputs": [],
   "source": [
    "exp_no = 1\n",
    "ff.run_experiment(exp_no, run_check=run_flag, plot_check=plot_flag)"
   ],
   "metadata": {
    "collapsed": false
   },
   "id": "8b8b7fb6b24f0c77"
  },
  {
   "cell_type": "markdown",
   "source": [
    "### Discussion\n",
    "\n",
    "|  Plot  | Fixed Architecture                                                                                                                                  | Self-tuning Architecture                                                                             |\n",
    "| :---:  |:----------------------------------------------------------------------------------------------------------------------------------------------------|:-----------------------------------------------------------------------------------------------------|\n",
    "| Cost Plots | Fails to stabilize the system - predicted and estimated costs increase unbounded                                                                    | Costs converge and system is stabilized within disturbance tolerances                                |\n",
    "| Trajectory | States increase unbounded and relative magnitude of prediction error marginally stabilises - Suggests sufficient sensors and insufficient actuators | States, state estimates and error converges within disturbance tolerances                            |\n",
    "| Architecture | Fixed locations and active set size by problem definition                                                                                           | Fixed active set size by problem definition. Greedy optimal change to architecture at each time step |\n",
    "| Compute time | Only calculates system update parameters at each time step - $ms$/$\\mu s$ scale computation                                                        | $\\sim 10^1$ seconds per time step to evaluate greedy-optimal architecture                            |"
   ],
   "metadata": {
    "collapsed": false
   },
   "id": "82b06c681ceff0f9"
  },
  {
   "cell_type": "markdown",
   "source": [
    "## Exp No 2 : Statistics of Fixed vs Self-tuning Architecture for state-space exploration\n",
    "\n",
    "### Experiment setup\n",
    "Goal is exploration of the state space by considering different initial states for a fixed graph\n",
    "$50$-node undirected, uniformly weighted graph with dynamics $|\\lambda_i (A) - 1| \\leq 0.1$ $\\forall i \\in [1, 2,..., 50]$\n",
    "Architecture constrained by $\\mathcal{L}_m = \\mathcal{L}_M = \\mathcal{L}_{m'} = \\mathcal{L}_{M'} = 5$ and no running/switching costs\n",
    "Design-time fixed active architecture set greedy optimized over a $10$-time step prediction horizon\n",
    "Self-tuning architecture initialized from design-time greedy optimal active set, optimized at each simulation step over a receding $5$-time step prediction horizon, unrestricted number of iterations with 2 changes to active sets per selection/rejection subsequences\n",
    "$50$- iterations. For each iteration, the true state is initialized on the scaled unit circle along the $i^{th}$ eigenvector (i.e. normalized eigenvector or unit vector along the $i^{th}$ eigenvector)\n",
    "\n",
    "### Plot"
   ],
   "metadata": {
    "collapsed": false
   },
   "id": "f078072b0090b0f2"
  },
  {
   "cell_type": "code",
   "execution_count": null,
   "outputs": [],
   "source": [
    "exp_no = 2\n",
    "ff.run_experiment(exp_no, run_check=run_flag, plot_check=plot_flag)"
   ],
   "metadata": {
    "collapsed": false
   },
   "id": "92651e88c501789f"
  },
  {
   "cell_type": "markdown",
   "source": [
    "### Discussion\n",
    "Across all true initial states (and as highlighted by the sample lines), self-tuning architecture consistently performs better than fixed architecture.\n",
    "On average - there are about $2$ sensor and architecture changes at each time-step"
   ],
   "metadata": {
    "collapsed": false
   },
   "id": "dcd4490a624be7ab"
  },
  {
   "cell_type": "markdown",
   "source": [
    "## Exp No 3 : Statistics of Fixed vs Self-tuning Architecture for different graphs\n",
    "\n",
    "### Experiment setup\n",
    "$50$-node undirected, uniformly weighted graph with dynamics $|\\lambda_i (A) - 1| \\leq 0.1$ $\\forall i \\in [1, 2,..., 50]$\n",
    "Architecture constrained by $\\mathcal{L}_m = \\mathcal{L}_M = \\mathcal{L}_{m'} = \\mathcal{L}_{M'} = 5$ and no running/switching costs\n",
    "Design-time fixed active architecture set greedy optimized over a $20$-time step prediction horizon\n",
    "Self-tuning architecture initialized from design-time greedy optimal active set, optimized at each simulation step over a receding $10$-time step prediction horizon, unrestricted $N\\rightarrow\\infty$ number of iterations with $N^'=2$ changes to active sets per selection/rejection subsequences\n",
    "$100$- iterations. For each iteration, the network graph is randomized\n",
    "\n",
    "### Plot"
   ],
   "metadata": {
    "collapsed": false
   },
   "id": "b8179862a9f02598"
  },
  {
   "cell_type": "code",
   "execution_count": null,
   "outputs": [],
   "source": [
    "exp_no = 3\n",
    "ff.run_experiment(exp_no, run_check=run_flag, plot_check=plot_flag)"
   ],
   "metadata": {
    "collapsed": false
   },
   "id": "89a0705ca15eeb8d"
  },
  {
   "cell_type": "markdown",
   "source": [
    "### Discussion\n",
    "For each test case, self-tuning architecture stabilizes the system with significantly lower costs while fixed architecture fails to stabilize the system."
   ],
   "metadata": {
    "collapsed": false
   },
   "id": "2c5585a600be8236"
  },
  {
   "cell_type": "markdown",
   "source": [
    "## Exp No 4 : Self-tuning Architecture for number of changes per iteration of the algorithm\n",
    "\n",
    "### Experiment setup\n",
    "$50$-node undirected, uniformly weighted graphs with dynamics $|\\lambda_i (A) - 1| \\leq 0.1$ $\\forall i \\in [1, 2,..., 50]$\n",
    "Self-tuning architecture initialized from design-time greedy optimal active set, optimized at each simulation step over a receding $5$-time step prediction horizon, unrestricted number of iterations with 2 changes to active sets per selection/rejection subsequences\n",
    "\n",
    "### Plot"
   ],
   "metadata": {
    "collapsed": false
   },
   "id": "e37ed24adbe31cbd"
  },
  {
   "cell_type": "code",
   "execution_count": null,
   "outputs": [],
   "source": [
    "exp_no = 4\n",
    "ff.run_experiment(exp_no, run_check=run_flag, plot_check=plot_flag)"
   ],
   "metadata": {
    "collapsed": false
   },
   "id": "756811d6071824a8"
  },
  {
   "cell_type": "markdown",
   "source": [
    "### Discussion\n",
    "Setting $N\\rightarrow\\infty$"
   ],
   "metadata": {
    "collapsed": false
   },
   "id": "dbb5690c00bb8dfd"
  },
  {
   "cell_type": "markdown",
   "source": [
    "## Exp No 5 : Statistics of Self-tuning Architecture for number of changes per iteration of the algorithm\n",
    "\n",
    "### Experiment setup\n",
    "$50$-node undirected, uniformly weighted graphs with dynamics $|\\lambda_i (A) - 1| \\leq 0.1$ $\\forall i \\in [1, 2,..., 50]$\n",
    "Self-tuning architecture initialized from design-time greedy optimal active set, optimized at each simulation step over a receding $5$-time step prediction horizon, unrestricted number of iterations with 2 changes to active sets per selection/rejection subsequences\n",
    "$100$- iterations. For each iteration, the number of architecture changes permitted per time-step $N=1$ compared to $N\\rightarrow\\infty$\n",
    "\n",
    "### Plot"
   ],
   "metadata": {
    "collapsed": false
   },
   "id": "3b848403be788ceb"
  },
  {
   "cell_type": "code",
   "execution_count": null,
   "outputs": [],
   "source": [
    "exp_no = 5\n",
    "ff.run_experiment(exp_no, run_check=run_flag, plot_check=plot_flag)"
   ],
   "metadata": {
    "collapsed": false
   },
   "id": "a1d248b373753b64"
  },
  {
   "cell_type": "markdown",
   "source": [
    "### Discussion\n",
    "Setting $N\\rightarrow\\infty$"
   ],
   "metadata": {
    "collapsed": false
   },
   "id": "3ea63e92c6ab4d53"
  }
 ],
 "metadata": {
  "kernelspec": {
   "display_name": "Python 3",
   "language": "python",
   "name": "python3"
  },
  "language_info": {
   "codemirror_mode": {
    "name": "ipython",
    "version": 2
   },
   "file_extension": ".py",
   "mimetype": "text/x-python",
   "name": "python",
   "nbconvert_exporter": "python",
   "pygments_lexer": "ipython2",
   "version": "2.7.6"
  }
 },
 "nbformat": 4,
 "nbformat_minor": 5
}
